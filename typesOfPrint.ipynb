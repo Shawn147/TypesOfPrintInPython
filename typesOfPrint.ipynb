{
 "cells": [
  {
   "cell_type": "markdown",
   "metadata": {},
   "source": [
    "# Types Of Print"
   ]
  },
  {
   "cell_type": "code",
   "execution_count": 8,
   "metadata": {},
   "outputs": [
    {
     "name": "stdout",
     "output_type": "stream",
     "text": [
      "My name is shawn and i am 21 years old."
     ]
    }
   ],
   "source": [
    "age = 21;\n",
    "name = \"shawn\";\n",
    "print(\"My name is \" + str(name) + \" and i am \" + str(age) + \" years old\",end=\".\")\n",
    "\n",
    "\n",
    "#when you use add (+) this will add two\n",
    "# variable or if those are strings it will add and closes those strings so you need to put spaces in print"
   ]
  },
  {
   "cell_type": "code",
   "execution_count": 10,
   "metadata": {},
   "outputs": [
    {
     "name": "stdout",
     "output_type": "stream",
     "text": [
      "My name is shawn and i am 21 years old."
     ]
    }
   ],
   "source": [
    "print(\"My name is\" , name , \"and i am\" , age , \"years old\",end=\".\") \n",
    "\n",
    "\n",
    "#when you concatenate with comma (,) it gives already spaces\n",
    "#between two words"
   ]
  },
  {
   "cell_type": "code",
   "execution_count": 11,
   "metadata": {},
   "outputs": [
    {
     "name": "stdout",
     "output_type": "stream",
     "text": [
      "My name is shawn and i am 21 years old."
     ]
    }
   ],
   "source": [
    "print(f\"My name is {name} and i am {age} years old\",end=\".\") \n",
    "\n",
    "\n",
    "#in this case you need to put f in print parenthesis \n",
    "#and put those variables in curly brackets"
   ]
  },
  {
   "cell_type": "code",
   "execution_count": 22,
   "metadata": {},
   "outputs": [
    {
     "name": "stdout",
     "output_type": "stream",
     "text": [
      "My name is shawn and i am 21 years old."
     ]
    }
   ],
   "source": [
    "print(\"My name is {0} and i am {1} years old\".format(name,age),end=\".\")\n",
    "\n",
    "#it is the type of variable serial index no. you just put index no. in crly brackets"
   ]
  },
  {
   "cell_type": "code",
   "execution_count": null,
   "metadata": {},
   "outputs": [],
   "source": []
  }
 ],
 "metadata": {
  "kernelspec": {
   "display_name": "Python 3",
   "language": "python",
   "name": "python3"
  },
  "language_info": {
   "codemirror_mode": {
    "name": "ipython",
    "version": 3
   },
   "file_extension": ".py",
   "mimetype": "text/x-python",
   "name": "python",
   "nbconvert_exporter": "python",
   "pygments_lexer": "ipython3",
   "version": "3.7.3"
  }
 },
 "nbformat": 4,
 "nbformat_minor": 2
}
